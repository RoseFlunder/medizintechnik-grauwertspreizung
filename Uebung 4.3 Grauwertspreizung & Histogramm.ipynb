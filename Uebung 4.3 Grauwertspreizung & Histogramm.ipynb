{
 "cells": [
  {
   "cell_type": "markdown",
   "metadata": {},
   "source": [
    "# Einlesen des Bilds"
   ]
  },
  {
   "cell_type": "code",
   "execution_count": 1,
   "metadata": {},
   "outputs": [],
   "source": [
    "import numpy as np\n",
    "import matplotlib.pyplot as plt\n",
    "from matplotlib.colors import NoNorm"
   ]
  },
  {
   "cell_type": "code",
   "execution_count": 2,
   "metadata": {},
   "outputs": [],
   "source": [
    "def show(image, normalize):\n",
    "    # Helper-method to show an image\n",
    "    return plt.imshow(image, cmap=\"gray\") if normalize\\\n",
    "        else plt.imshow(image, cmap=\"gray\", norm=NoNorm())"
   ]
  },
  {
   "cell_type": "code",
   "execution_count": 3,
   "metadata": {},
   "outputs": [],
   "source": [
    "base = np.array([[3, 3, 4, 3, 0, 1, 4, 7, 5, 4],\n",
    "             [0, 5, 1, 5, 4, 5, 73, 3, 5, 4],\n",
    "             [4, 2, 5, 5, 1, 5, 6, 3, 5, 2],\n",
    "             [4, 18, 24, 16, 10, 28, 44, 3, 2, 2],\n",
    "             [1, 11, 14, 10, 14, 41, 28, 1, 4, 4],\n",
    "             [6, 12, 21, 10, 18, 29, 26, 3, 4, 2],\n",
    "             [6, 20, 21, 36, 33, 31, 16, 4, 1, 5],\n",
    "             [3, 14, 10, 40, 19, 24, 6, 4, 2, 5],\n",
    "             [4, 9, 6, 28, 30, 22, 13, 6, 6, 2],\n",
    "             [4, 2, 5, 3, 3, 3, 5, 3, 3, 3]])"
   ]
  },
  {
   "cell_type": "markdown",
   "metadata": {},
   "source": [
    "# Erste Teilaufgabe\n",
    "Berechnen Sie das Histogramm, den mittleren Grauwert, den globalen Kontrast und die Entropie des\n",
    "Bildes.\n",
    "\n",
    "# Histogramm"
   ]
  },
  {
   "cell_type": "code",
   "execution_count": 4,
   "metadata": {},
   "outputs": [
    {
     "data": {
      "image/png": "[encoded data removed]",
      "text/plain": [
       "<Figure size 432x288 with 1 Axes>"
      ]
     },
     "metadata": {},
     "output_type": "display_data"
    }
   ],
   "source": [
    "plt.xlabel('Grauwert')\n",
    "plt.ylabel('Anzahl')\n",
    "hist = plt.hist(base.flatten(), bins=np.arange(np.max(base) + 2))"
   ]
  },
  {
   "cell_type": "markdown",
   "metadata": {},
   "source": [
    "Wertetabelle:"
   ]
  },
  {
   "cell_type": "code",
   "execution_count": 5,
   "metadata": {},
   "outputs": [
    {
     "name": "stdout",
     "output_type": "stream",
     "text": [
      "Grauwert\tAnzahl\n",
      "0 \t\t 2.0\n",
      "1 \t\t 6.0\n",
      "2 \t\t 8.0\n",
      "3 \t\t 14.0\n",
      "4 \t\t 14.0\n",
      "5 \t\t 13.0\n",
      "6 \t\t 7.0\n",
      "7 \t\t 1.0\n",
      "9 \t\t 1.0\n",
      "10 \t\t 4.0\n",
      "11 \t\t 1.0\n",
      "12 \t\t 1.0\n",
      "13 \t\t 1.0\n",
      "14 \t\t 3.0\n",
      "16 \t\t 2.0\n",
      "18 \t\t 2.0\n",
      "19 \t\t 1.0\n",
      "20 \t\t 1.0\n",
      "21 \t\t 2.0\n",
      "22 \t\t 1.0\n",
      "24 \t\t 2.0\n",
      "26 \t\t 1.0\n",
      "28 \t\t 3.0\n",
      "29 \t\t 1.0\n",
      "30 \t\t 1.0\n",
      "31 \t\t 1.0\n",
      "33 \t\t 1.0\n",
      "36 \t\t 1.0\n",
      "40 \t\t 1.0\n",
      "41 \t\t 1.0\n",
      "44 \t\t 1.0\n",
      "73 \t\t 1.0\n"
     ]
    }
   ],
   "source": [
    "print('Grauwert\\tAnzahl')\n",
    "for index, x in np.ndenumerate(hist[0]):\n",
    "    if x > 0:\n",
    "        print(hist[1][index],'\\t\\t', x)"
   ]
  },
  {
   "cell_type": "markdown",
   "metadata": {},
   "source": [
    "# Entropie\n",
    "Die Entropie definiert den mittleren Informationsgehalt pro Bildpunkt (Bits pro Bildpunkt)\n",
    "![formula4.png](formula4.png)\n",
    "p<sub>k</sub>: relative Häufigkeit eines Grauwerts"
   ]
  },
  {
   "cell_type": "code",
   "execution_count": 6,
   "metadata": {},
   "outputs": [
    {
     "data": {
      "text/plain": [
       "4.230029303609683"
      ]
     },
     "execution_count": 6,
     "metadata": {},
     "output_type": "execute_result"
    }
   ],
   "source": [
    "entropie = 0\n",
    "num_pix = base.shape[0] * base.shape[1] #Anzahl Bildpunkte\n",
    "for index, y in np.ndenumerate(hist[0]): #Iteriere Histogramm\n",
    "    if y > 0: #nur falls Anzahl des Grauwerts > 0\n",
    "        p = y / num_pix #relative Haeufigkeit des Grauwerts\n",
    "        entropie += (-p * np.log2(p)) #addiere Summenelement\n",
    "entropie     "
   ]
  },
  {
   "cell_type": "markdown",
   "metadata": {},
   "source": [
    "![formula2.png](formula2.png)"
   ]
  },
  {
   "cell_type": "code",
   "execution_count": 7,
   "metadata": {},
   "outputs": [
    {
     "data": {
      "text/plain": [
       "10.47"
      ]
     },
     "execution_count": 7,
     "metadata": {},
     "output_type": "execute_result"
    }
   ],
   "source": [
    "avg = 0\n",
    "#iteriere Grauwerte\n",
    "for g in np.nditer(base):\n",
    "    avg += g #addiere summenelement\n",
    "avg /= num_pix #dividiere durch Anzahl Bildpunkte \n",
    "avg"
   ]
  },
  {
   "cell_type": "markdown",
   "metadata": {},
   "source": [
    "![formula3.png](formula3.png)"
   ]
  },
  {
   "cell_type": "code",
   "execution_count": 8,
   "metadata": {},
   "outputs": [
    {
     "data": {
      "text/plain": [
       "146.5491"
      ]
     },
     "execution_count": 8,
     "metadata": {},
     "output_type": "execute_result"
    }
   ],
   "source": [
    "global_contrast = 0\n",
    "#iteriere ueber Grauwerte\n",
    "for g in np.nditer(base):\n",
    "    #addiere summenelement\n",
    "    global_contrast += (g - avg)**2\n",
    "#dividiere durch Anzahl Bildpunkte \n",
    "global_contrast /= num_pix\n",
    "global_contrast"
   ]
  },
  {
   "cell_type": "markdown",
   "metadata": {},
   "source": [
    "# Zweite Teilaufgabe\n",
    "Bestimmen Sie eine Funktion zur linearen Grauwertspreizung für die Abbildung der Werte aus dem\n",
    "Intervall [9, 41] des Bildes auf eine 6 bit Grauwertdarstellung.\n",
    "\n",
    "# Grauwertspreizung nach Formel aus den Folien:\n",
    "![figure1.png](figure1.png)\n",
    "\n",
    "![formula1.png](formula1.png)"
   ]
  },
  {
   "cell_type": "code",
   "execution_count": 15,
   "metadata": {},
   "outputs": [],
   "source": [
    "def transform(image, outputMax, windowMin, windowMax):\n",
    "    #transformiere jeden Grauwert\n",
    "    return np.piecewise(image,\n",
    "                 #clipping\n",
    "                 [image < windowMin, image > windowMax],\n",
    "                 [0, outputMax,\n",
    "                      #T-strech\n",
    "                      lambda x: ((x - windowMin) * outputMax) / \n",
    "                      (windowMax - windowMin)])"
   ]
  },
  {
   "cell_type": "markdown",
   "metadata": {},
   "source": [
    "# Dritte Teilaufgabe\n",
    "Berechnen Sie ein neues Bild anhand dieser Transformation und visualisieren Sie beide\n",
    "Grauwertbilder (Ausgangsbild, transformiertes Bild)."
   ]
  },
  {
   "cell_type": "markdown",
   "metadata": {},
   "source": [
    "# Visualisierung mit Normierung (73 als max Wert = weiß)"
   ]
  },
  {
   "cell_type": "code",
   "execution_count": 16,
   "metadata": {},
   "outputs": [
    {
     "data": {
      "text/plain": [
       "array([[ 3,  3,  4,  3,  0,  1,  4,  7,  5,  4],\n",
       "       [ 0,  5,  1,  5,  4,  5, 73,  3,  5,  4],\n",
       "       [ 4,  2,  5,  5,  1,  5,  6,  3,  5,  2],\n",
       "       [ 4, 18, 24, 16, 10, 28, 44,  3,  2,  2],\n",
       "       [ 1, 11, 14, 10, 14, 41, 28,  1,  4,  4],\n",
       "       [ 6, 12, 21, 10, 18, 29, 26,  3,  4,  2],\n",
       "       [ 6, 20, 21, 36, 33, 31, 16,  4,  1,  5],\n",
       "       [ 3, 14, 10, 40, 19, 24,  6,  4,  2,  5],\n",
       "       [ 4,  9,  6, 28, 30, 22, 13,  6,  6,  2],\n",
       "       [ 4,  2,  5,  3,  3,  3,  5,  3,  3,  3]])"
      ]
     },
     "execution_count": 16,
     "metadata": {},
     "output_type": "execute_result"
    }
   ],
   "source": [
    "base"
   ]
  },
  {
   "cell_type": "code",
   "execution_count": 17,
   "metadata": {},
   "outputs": [
    {
     "data": {
      "text/plain": [
       "<matplotlib.image.AxesImage at 0x1f5eb90f358>"
      ]
     },
     "execution_count": 17,
     "metadata": {},
     "output_type": "execute_result"
    },
    {
     "data": {
      "image/png": "[encoded data removed]",
      "text/plain": [
       "<Figure size 432x288 with 1 Axes>"
      ]
     },
     "metadata": {},
     "output_type": "display_data"
    }
   ],
   "source": [
    "show(base, True)"
   ]
  },
  {
   "cell_type": "code",
   "execution_count": 18,
   "metadata": {
    "scrolled": true
   },
   "outputs": [
    {
     "data": {
      "text/plain": [
       "array([[ 0,  0,  0,  0,  0,  0,  0,  0,  0,  0],\n",
       "       [ 0,  0,  0,  0,  0,  0, 64,  0,  0,  0],\n",
       "       [ 0,  0,  0,  0,  0,  0,  0,  0,  0,  0],\n",
       "       [ 0, 18, 30, 14,  2, 38, 64,  0,  0,  0],\n",
       "       [ 0,  4, 10,  2, 10, 64, 38,  0,  0,  0],\n",
       "       [ 0,  6, 24,  2, 18, 40, 34,  0,  0,  0],\n",
       "       [ 0, 22, 24, 54, 48, 44, 14,  0,  0,  0],\n",
       "       [ 0, 10,  2, 62, 20, 30,  0,  0,  0,  0],\n",
       "       [ 0,  0,  0, 38, 42, 26,  8,  0,  0,  0],\n",
       "       [ 0,  0,  0,  0,  0,  0,  0,  0,  0,  0]])"
      ]
     },
     "execution_count": 18,
     "metadata": {},
     "output_type": "execute_result"
    }
   ],
   "source": [
    "modified = transform(base, 64, 9, 41)\n",
    "modified"
   ]
  },
  {
   "cell_type": "code",
   "execution_count": 13,
   "metadata": {},
   "outputs": [
    {
     "data": {
      "text/plain": [
       "<matplotlib.image.AxesImage at 0x1f5eb8bd2e8>"
      ]
     },
     "execution_count": 13,
     "metadata": {},
     "output_type": "execute_result"
    },
    {
     "data": {
      "image/png": "[encoded data removed]",
      "text/plain": [
       "<Figure size 432x288 with 1 Axes>"
      ]
     },
     "metadata": {},
     "output_type": "display_data"
    }
   ],
   "source": [
    "show(modified, True)"
   ]
  },
  {
   "cell_type": "code",
   "execution_count": null,
   "metadata": {},
   "outputs": [],
   "source": []
  }
 ],
 "metadata": {
  "kernelspec": {
   "display_name": "Python 3",
   "language": "python",
   "name": "python3"
  },
  "language_info": {
   "codemirror_mode": {
    "name": "ipython",
    "version": 3
   },
   "file_extension": ".py",
   "mimetype": "text/x-python",
   "name": "python",
   "nbconvert_exporter": "python",
   "pygments_lexer": "ipython3",
   "version": "3.6.2"
  }
 },
 "nbformat": 4,
 "nbformat_minor": 2
}
